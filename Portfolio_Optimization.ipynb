{
 "cells": [
  {
   "cell_type": "code",
   "execution_count": 1,
   "metadata": {},
   "outputs": [],
   "source": [
    "#Description this program attemps to optimize a user portfolio using the efficient frontier and python"
   ]
  },
  {
   "cell_type": "code",
   "execution_count": 2,
   "metadata": {},
   "outputs": [],
   "source": [
    "#Python Libraries:\n",
    "from pandas_datareader import data as web \n",
    "import pandas as pd \n",
    "import numpy as np \n",
    "from datetime import datetime\n",
    "import matplotlib.pyplot as plt\n",
    "plt.style.use('fivethirtyeight')"
   ]
  },
  {
   "cell_type": "code",
   "execution_count": 3,
   "metadata": {},
   "outputs": [],
   "source": [
    "#Get the stock symbols / tickers in the portfolio\n",
    "#FAANG: Facebook, Amazon, Apple, Netflix, Google\n",
    "assets=['FB','AMZN','AAPL','NFLX','GOOG']"
   ]
  },
  {
   "cell_type": "code",
   "execution_count": 4,
   "metadata": {},
   "outputs": [],
   "source": [
    "#aSSIGN WEIGTHS TO THE STOKS.\n",
    "weights=np.array([0.2,0.2,0.2,0.2,0.2])"
   ]
  },
  {
   "cell_type": "code",
   "execution_count": 5,
   "metadata": {},
   "outputs": [],
   "source": [
    "#Get the stock/portfolio starting date\n",
    "stockStartDate='2013-01-01'"
   ]
  },
  {
   "cell_type": "code",
   "execution_count": 6,
   "metadata": {},
   "outputs": [
    {
     "data": {
      "text/plain": [
       "'2020-07-15'"
      ]
     },
     "execution_count": 6,
     "metadata": {},
     "output_type": "execute_result"
    }
   ],
   "source": [
    "#get the stocks ending date(today)\n",
    "today=datetime.today().strftime('%Y-%m-%d')\n",
    "today"
   ]
  },
  {
   "cell_type": "code",
   "execution_count": 7,
   "metadata": {},
   "outputs": [],
   "source": [
    "#create a dataframe to store the adjusted close price of the stocks\n",
    "df=pd.DataFrame()\n",
    "\n",
    "#Store the adjusted close price of the stock into the df\n",
    "for stock in assets:\n",
    "  df[stock]=web.DataReader(stock,data_source='yahoo', start=stockStartDate, end= today)['Adj Close']"
   ]
  },
  {
   "cell_type": "code",
   "execution_count": 8,
   "metadata": {},
   "outputs": [
    {
     "data": {
      "text/html": [
       "<div>\n",
       "<style scoped>\n",
       "    .dataframe tbody tr th:only-of-type {\n",
       "        vertical-align: middle;\n",
       "    }\n",
       "\n",
       "    .dataframe tbody tr th {\n",
       "        vertical-align: top;\n",
       "    }\n",
       "\n",
       "    .dataframe thead th {\n",
       "        text-align: right;\n",
       "    }\n",
       "</style>\n",
       "<table border=\"1\" class=\"dataframe\">\n",
       "  <thead>\n",
       "    <tr style=\"text-align: right;\">\n",
       "      <th></th>\n",
       "      <th>FB</th>\n",
       "      <th>AMZN</th>\n",
       "      <th>AAPL</th>\n",
       "      <th>NFLX</th>\n",
       "      <th>GOOG</th>\n",
       "    </tr>\n",
       "    <tr>\n",
       "      <th>Date</th>\n",
       "      <th></th>\n",
       "      <th></th>\n",
       "      <th></th>\n",
       "      <th></th>\n",
       "      <th></th>\n",
       "    </tr>\n",
       "  </thead>\n",
       "  <tbody>\n",
       "    <tr>\n",
       "      <th>2013-01-02</th>\n",
       "      <td>28.000000</td>\n",
       "      <td>257.309998</td>\n",
       "      <td>68.502106</td>\n",
       "      <td>13.144286</td>\n",
       "      <td>360.274597</td>\n",
       "    </tr>\n",
       "    <tr>\n",
       "      <th>2013-01-03</th>\n",
       "      <td>27.770000</td>\n",
       "      <td>258.480011</td>\n",
       "      <td>67.637436</td>\n",
       "      <td>13.798572</td>\n",
       "      <td>360.483826</td>\n",
       "    </tr>\n",
       "    <tr>\n",
       "      <th>2013-01-04</th>\n",
       "      <td>28.760000</td>\n",
       "      <td>259.149994</td>\n",
       "      <td>65.753418</td>\n",
       "      <td>13.711429</td>\n",
       "      <td>367.607117</td>\n",
       "    </tr>\n",
       "    <tr>\n",
       "      <th>2013-01-07</th>\n",
       "      <td>29.420000</td>\n",
       "      <td>268.459991</td>\n",
       "      <td>65.366646</td>\n",
       "      <td>14.171429</td>\n",
       "      <td>366.003143</td>\n",
       "    </tr>\n",
       "    <tr>\n",
       "      <th>2013-01-08</th>\n",
       "      <td>29.059999</td>\n",
       "      <td>266.380005</td>\n",
       "      <td>65.542587</td>\n",
       "      <td>13.880000</td>\n",
       "      <td>365.280823</td>\n",
       "    </tr>\n",
       "    <tr>\n",
       "      <th>...</th>\n",
       "      <td>...</td>\n",
       "      <td>...</td>\n",
       "      <td>...</td>\n",
       "      <td>...</td>\n",
       "      <td>...</td>\n",
       "    </tr>\n",
       "    <tr>\n",
       "      <th>2020-07-09</th>\n",
       "      <td>244.500000</td>\n",
       "      <td>3182.629883</td>\n",
       "      <td>383.010010</td>\n",
       "      <td>507.760010</td>\n",
       "      <td>1510.989990</td>\n",
       "    </tr>\n",
       "    <tr>\n",
       "      <th>2020-07-10</th>\n",
       "      <td>245.070007</td>\n",
       "      <td>3200.000000</td>\n",
       "      <td>383.679993</td>\n",
       "      <td>548.729980</td>\n",
       "      <td>1541.739990</td>\n",
       "    </tr>\n",
       "    <tr>\n",
       "      <th>2020-07-13</th>\n",
       "      <td>239.000000</td>\n",
       "      <td>3104.000000</td>\n",
       "      <td>381.910004</td>\n",
       "      <td>525.500000</td>\n",
       "      <td>1511.339966</td>\n",
       "    </tr>\n",
       "    <tr>\n",
       "      <th>2020-07-14</th>\n",
       "      <td>239.729996</td>\n",
       "      <td>3084.000000</td>\n",
       "      <td>388.230011</td>\n",
       "      <td>524.880005</td>\n",
       "      <td>1520.579956</td>\n",
       "    </tr>\n",
       "    <tr>\n",
       "      <th>2020-07-15</th>\n",
       "      <td>239.240005</td>\n",
       "      <td>3002.360107</td>\n",
       "      <td>387.869995</td>\n",
       "      <td>514.000122</td>\n",
       "      <td>1504.510010</td>\n",
       "    </tr>\n",
       "  </tbody>\n",
       "</table>\n",
       "<p>1897 rows × 5 columns</p>\n",
       "</div>"
      ],
      "text/plain": [
       "                    FB         AMZN        AAPL        NFLX         GOOG\n",
       "Date                                                                    \n",
       "2013-01-02   28.000000   257.309998   68.502106   13.144286   360.274597\n",
       "2013-01-03   27.770000   258.480011   67.637436   13.798572   360.483826\n",
       "2013-01-04   28.760000   259.149994   65.753418   13.711429   367.607117\n",
       "2013-01-07   29.420000   268.459991   65.366646   14.171429   366.003143\n",
       "2013-01-08   29.059999   266.380005   65.542587   13.880000   365.280823\n",
       "...                ...          ...         ...         ...          ...\n",
       "2020-07-09  244.500000  3182.629883  383.010010  507.760010  1510.989990\n",
       "2020-07-10  245.070007  3200.000000  383.679993  548.729980  1541.739990\n",
       "2020-07-13  239.000000  3104.000000  381.910004  525.500000  1511.339966\n",
       "2020-07-14  239.729996  3084.000000  388.230011  524.880005  1520.579956\n",
       "2020-07-15  239.240005  3002.360107  387.869995  514.000122  1504.510010\n",
       "\n",
       "[1897 rows x 5 columns]"
      ]
     },
     "execution_count": 8,
     "metadata": {},
     "output_type": "execute_result"
    }
   ],
   "source": [
    "#show df \n",
    "df"
   ]
  },
  {
   "cell_type": "code",
   "execution_count": 9,
   "metadata": {},
   "outputs": [
    {
     "data": {
      "image/png": "[encoded data removed]",
      "text/plain": [
       "<Figure size 432x288 with 1 Axes>"
      ]
     },
     "metadata": {},
     "output_type": "display_data"
    }
   ],
   "source": [
    "#visually show the stock/portfolio\n",
    "title='Portfolio Adj. Close Price (USD) History'\n",
    "#Get the stocks \n",
    "my_stocks=df#create and plot the graph\n",
    "for c in my_stocks.columns.values:\n",
    "  plt.plot(my_stocks[c], label=c)\n",
    "\n",
    "plt.title(title)\n",
    "plt.xlabel('Date', fontsize=18)\n",
    "plt.ylabel('Adj price (USD)', fontsize=18)\n",
    "plt.legend(my_stocks.columns.values, loc='upper left')\n",
    "plt.show();"
   ]
  },
  {
   "cell_type": "code",
   "execution_count": 10,
   "metadata": {},
   "outputs": [
    {
     "data": {
      "text/html": [
       "<div>\n",
       "<style scoped>\n",
       "    .dataframe tbody tr th:only-of-type {\n",
       "        vertical-align: middle;\n",
       "    }\n",
       "\n",
       "    .dataframe tbody tr th {\n",
       "        vertical-align: top;\n",
       "    }\n",
       "\n",
       "    .dataframe thead th {\n",
       "        text-align: right;\n",
       "    }\n",
       "</style>\n",
       "<table border=\"1\" class=\"dataframe\">\n",
       "  <thead>\n",
       "    <tr style=\"text-align: right;\">\n",
       "      <th></th>\n",
       "      <th>FB</th>\n",
       "      <th>AMZN</th>\n",
       "      <th>AAPL</th>\n",
       "      <th>NFLX</th>\n",
       "      <th>GOOG</th>\n",
       "    </tr>\n",
       "    <tr>\n",
       "      <th>Date</th>\n",
       "      <th></th>\n",
       "      <th></th>\n",
       "      <th></th>\n",
       "      <th></th>\n",
       "      <th></th>\n",
       "    </tr>\n",
       "  </thead>\n",
       "  <tbody>\n",
       "    <tr>\n",
       "      <th>2013-01-02</th>\n",
       "      <td>NaN</td>\n",
       "      <td>NaN</td>\n",
       "      <td>NaN</td>\n",
       "      <td>NaN</td>\n",
       "      <td>NaN</td>\n",
       "    </tr>\n",
       "    <tr>\n",
       "      <th>2013-01-03</th>\n",
       "      <td>-0.008214</td>\n",
       "      <td>0.004547</td>\n",
       "      <td>-0.012623</td>\n",
       "      <td>0.049777</td>\n",
       "      <td>0.000581</td>\n",
       "    </tr>\n",
       "    <tr>\n",
       "      <th>2013-01-04</th>\n",
       "      <td>0.035650</td>\n",
       "      <td>0.002592</td>\n",
       "      <td>-0.027855</td>\n",
       "      <td>-0.006315</td>\n",
       "      <td>0.019760</td>\n",
       "    </tr>\n",
       "    <tr>\n",
       "      <th>2013-01-07</th>\n",
       "      <td>0.022949</td>\n",
       "      <td>0.035925</td>\n",
       "      <td>-0.005882</td>\n",
       "      <td>0.033549</td>\n",
       "      <td>-0.004363</td>\n",
       "    </tr>\n",
       "    <tr>\n",
       "      <th>2013-01-08</th>\n",
       "      <td>-0.012237</td>\n",
       "      <td>-0.007748</td>\n",
       "      <td>0.002692</td>\n",
       "      <td>-0.020565</td>\n",
       "      <td>-0.001974</td>\n",
       "    </tr>\n",
       "    <tr>\n",
       "      <th>...</th>\n",
       "      <td>...</td>\n",
       "      <td>...</td>\n",
       "      <td>...</td>\n",
       "      <td>...</td>\n",
       "      <td>...</td>\n",
       "    </tr>\n",
       "    <tr>\n",
       "      <th>2020-07-09</th>\n",
       "      <td>0.003777</td>\n",
       "      <td>0.032949</td>\n",
       "      <td>0.004300</td>\n",
       "      <td>0.009905</td>\n",
       "      <td>0.010020</td>\n",
       "    </tr>\n",
       "    <tr>\n",
       "      <th>2020-07-10</th>\n",
       "      <td>0.002331</td>\n",
       "      <td>0.005458</td>\n",
       "      <td>0.001749</td>\n",
       "      <td>0.080688</td>\n",
       "      <td>0.020351</td>\n",
       "    </tr>\n",
       "    <tr>\n",
       "      <th>2020-07-13</th>\n",
       "      <td>-0.024768</td>\n",
       "      <td>-0.030000</td>\n",
       "      <td>-0.004613</td>\n",
       "      <td>-0.042334</td>\n",
       "      <td>-0.019718</td>\n",
       "    </tr>\n",
       "    <tr>\n",
       "      <th>2020-07-14</th>\n",
       "      <td>0.003054</td>\n",
       "      <td>-0.006443</td>\n",
       "      <td>0.016548</td>\n",
       "      <td>-0.001180</td>\n",
       "      <td>0.006114</td>\n",
       "    </tr>\n",
       "    <tr>\n",
       "      <th>2020-07-15</th>\n",
       "      <td>-0.002044</td>\n",
       "      <td>-0.026472</td>\n",
       "      <td>-0.000927</td>\n",
       "      <td>-0.020728</td>\n",
       "      <td>-0.010568</td>\n",
       "    </tr>\n",
       "  </tbody>\n",
       "</table>\n",
       "<p>1897 rows × 5 columns</p>\n",
       "</div>"
      ],
      "text/plain": [
       "                  FB      AMZN      AAPL      NFLX      GOOG\n",
       "Date                                                        \n",
       "2013-01-02       NaN       NaN       NaN       NaN       NaN\n",
       "2013-01-03 -0.008214  0.004547 -0.012623  0.049777  0.000581\n",
       "2013-01-04  0.035650  0.002592 -0.027855 -0.006315  0.019760\n",
       "2013-01-07  0.022949  0.035925 -0.005882  0.033549 -0.004363\n",
       "2013-01-08 -0.012237 -0.007748  0.002692 -0.020565 -0.001974\n",
       "...              ...       ...       ...       ...       ...\n",
       "2020-07-09  0.003777  0.032949  0.004300  0.009905  0.010020\n",
       "2020-07-10  0.002331  0.005458  0.001749  0.080688  0.020351\n",
       "2020-07-13 -0.024768 -0.030000 -0.004613 -0.042334 -0.019718\n",
       "2020-07-14  0.003054 -0.006443  0.016548 -0.001180  0.006114\n",
       "2020-07-15 -0.002044 -0.026472 -0.000927 -0.020728 -0.010568\n",
       "\n",
       "[1897 rows x 5 columns]"
      ]
     },
     "execution_count": 10,
     "metadata": {},
     "output_type": "execute_result"
    }
   ],
   "source": [
    "#show the daily simple return\n",
    "returns=df.pct_change()\n",
    "returns"
   ]
  },
  {
   "cell_type": "code",
   "execution_count": 11,
   "metadata": {},
   "outputs": [
    {
     "data": {
      "text/html": [
       "<div>\n",
       "<style scoped>\n",
       "    .dataframe tbody tr th:only-of-type {\n",
       "        vertical-align: middle;\n",
       "    }\n",
       "\n",
       "    .dataframe tbody tr th {\n",
       "        vertical-align: top;\n",
       "    }\n",
       "\n",
       "    .dataframe thead th {\n",
       "        text-align: right;\n",
       "    }\n",
       "</style>\n",
       "<table border=\"1\" class=\"dataframe\">\n",
       "  <thead>\n",
       "    <tr style=\"text-align: right;\">\n",
       "      <th></th>\n",
       "      <th>FB</th>\n",
       "      <th>AMZN</th>\n",
       "      <th>AAPL</th>\n",
       "      <th>NFLX</th>\n",
       "      <th>GOOG</th>\n",
       "    </tr>\n",
       "  </thead>\n",
       "  <tbody>\n",
       "    <tr>\n",
       "      <th>FB</th>\n",
       "      <td>0.116682</td>\n",
       "      <td>0.052397</td>\n",
       "      <td>0.041139</td>\n",
       "      <td>0.054807</td>\n",
       "      <td>0.049148</td>\n",
       "    </tr>\n",
       "    <tr>\n",
       "      <th>AMZN</th>\n",
       "      <td>0.052397</td>\n",
       "      <td>0.092067</td>\n",
       "      <td>0.035863</td>\n",
       "      <td>0.061674</td>\n",
       "      <td>0.046694</td>\n",
       "    </tr>\n",
       "    <tr>\n",
       "      <th>AAPL</th>\n",
       "      <td>0.041139</td>\n",
       "      <td>0.035863</td>\n",
       "      <td>0.076401</td>\n",
       "      <td>0.032086</td>\n",
       "      <td>0.037551</td>\n",
       "    </tr>\n",
       "    <tr>\n",
       "      <th>NFLX</th>\n",
       "      <td>0.054807</td>\n",
       "      <td>0.061674</td>\n",
       "      <td>0.032086</td>\n",
       "      <td>0.212763</td>\n",
       "      <td>0.049153</td>\n",
       "    </tr>\n",
       "    <tr>\n",
       "      <th>GOOG</th>\n",
       "      <td>0.049148</td>\n",
       "      <td>0.046694</td>\n",
       "      <td>0.037551</td>\n",
       "      <td>0.049153</td>\n",
       "      <td>0.065001</td>\n",
       "    </tr>\n",
       "  </tbody>\n",
       "</table>\n",
       "</div>"
      ],
      "text/plain": [
       "            FB      AMZN      AAPL      NFLX      GOOG\n",
       "FB    0.116682  0.052397  0.041139  0.054807  0.049148\n",
       "AMZN  0.052397  0.092067  0.035863  0.061674  0.046694\n",
       "AAPL  0.041139  0.035863  0.076401  0.032086  0.037551\n",
       "NFLX  0.054807  0.061674  0.032086  0.212763  0.049153\n",
       "GOOG  0.049148  0.046694  0.037551  0.049153  0.065001"
      ]
     },
     "execution_count": 11,
     "metadata": {},
     "output_type": "execute_result"
    }
   ],
   "source": [
    "#Create and show the annualized covariance matrix\n",
    "cov_matrix_annual=returns.cov()*252\n",
    "cov_matrix_annual"
   ]
  },
  {
   "cell_type": "code",
   "execution_count": 12,
   "metadata": {},
   "outputs": [
    {
     "data": {
      "text/plain": [
       "0.05935755822622836"
      ]
     },
     "execution_count": 12,
     "metadata": {},
     "output_type": "execute_result"
    }
   ],
   "source": [
    "#Calculate the portfolio variance:\n",
    "port_variance = np.dot(weights.T, np.dot(cov_matrix_annual, weights))\n",
    "port_variance"
   ]
  },
  {
   "cell_type": "code",
   "execution_count": 13,
   "metadata": {},
   "outputs": [
    {
     "data": {
      "text/plain": [
       "0.2436340662268484"
      ]
     },
     "execution_count": 13,
     "metadata": {},
     "output_type": "execute_result"
    }
   ],
   "source": [
    "#Caculate the portfolio volatility: or standard deviation\n",
    "port_volatility=np.sqrt(port_variance)\n",
    "port_volatility"
   ]
  },
  {
   "cell_type": "code",
   "execution_count": 14,
   "metadata": {},
   "outputs": [
    {
     "data": {
      "text/plain": [
       "0.3593735029749212"
      ]
     },
     "execution_count": 14,
     "metadata": {},
     "output_type": "execute_result"
    }
   ],
   "source": [
    "#Calculate the annual portfolio return :\n",
    "portfolioSimpleAnnualReturn=np.sum(returns.mean()*weights)*252\n",
    "portfolioSimpleAnnualReturn"
   ]
  },
  {
   "cell_type": "code",
   "execution_count": 15,
   "metadata": {},
   "outputs": [
    {
     "name": "stdout",
     "output_type": "stream",
     "text": [
      "Expected annual return: 36.0%\n",
      "Annual volatility /risk: 24.0%\n",
      "Annual variance: 6.0%\n"
     ]
    }
   ],
   "source": [
    "#show the expected annual return , volatility and variance:\n",
    "percent_var=str(round(port_variance, 2)*100)+'%'\n",
    "percent_vols=str(round(port_volatility,2)*100)+'%'\n",
    "percent_ret=str(round(portfolioSimpleAnnualReturn,2)*100)+'%'\n",
    "print('Expected annual return: '+percent_ret)\n",
    "print('Annual volatility /risk: '+percent_vols)\n",
    "print('Annual variance: '+percent_var)"
   ]
  }
 ],
 "metadata": {
  "kernelspec": {
   "display_name": "Python 3",
   "language": "python",
   "name": "python3"
  },
  "language_info": {
   "codemirror_mode": {
    "name": "ipython",
    "version": 3
   },
   "file_extension": ".py",
   "mimetype": "text/x-python",
   "name": "python",
   "nbconvert_exporter": "python",
   "pygments_lexer": "ipython3",
   "version": "3.8.3"
  }
 },
 "nbformat": 4,
 "nbformat_minor": 4
}
